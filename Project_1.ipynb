{
  "nbformat": 4,
  "nbformat_minor": 0,
  "metadata": {
    "colab": {
      "provenance": [],
      "authorship_tag": "ABX9TyPdfWY/LrCFK7Tdhh6b8JZf",
      "include_colab_link": true
    },
    "kernelspec": {
      "name": "python3",
      "display_name": "Python 3"
    },
    "language_info": {
      "name": "python"
    }
  },
  "cells": [
    {
      "cell_type": "markdown",
      "metadata": {
        "id": "view-in-github",
        "colab_type": "text"
      },
      "source": [
        "<a href=\"https://colab.research.google.com/github/omkardesai2827/Proof-of-Central-limit-theorem-of-Statistics/blob/main/Project_1.ipynb\" target=\"_parent\"><img src=\"https://colab.research.google.com/assets/colab-badge.svg\" alt=\"Open In Colab\"/></a>"
      ]
    },
    {
      "cell_type": "code",
      "execution_count": null,
      "metadata": {
        "id": "DT8qWKfeshTQ"
      },
      "outputs": [],
      "source": [
        "import nunmpy as np\n",
        "from numpy.random import randn\n",
        "n=1000 # sample size\n",
        "counter=0\n",
        "for i in randn(n):\n",
        "  if -1<i<1:\n",
        "    counter+=1\n",
        "print(\"count=\",counter)\n",
        "print(\"mean=\",(counter/n))\n",
        "print(\"percentage=\",(counter/n)*100)"
      ]
    },
    {
      "cell_type": "code",
      "source": [
        "import numpy as np\n",
        "from numpy.random import randn\n",
        "n=1000 #sample size\n",
        "counter=0\n",
        "for i in randn(n): #to generate the norammly distributed random numbers\n",
        "    if -1<i<1:     #range of our sample size \n",
        "        counter+=1 \n",
        "print(\"count=\",counter) #count of numbers occuring between -1 to 1 put of 1000\n",
        "print(\"mean=\",(counter/n)) #average of numbers occuring between -1 to 1\n",
        "print(\"percentage=\",(counter/n)*100)  #percentage of occuring between -1 to 1"
      ],
      "metadata": {
        "colab": {
          "base_uri": "https://localhost:8080/"
        },
        "id": "OMNVoWwGtIc8",
        "outputId": "a413ba2c-24a6-42ec-b5b3-a09ab374162f"
      },
      "execution_count": 3,
      "outputs": [
        {
          "output_type": "stream",
          "name": "stdout",
          "text": [
            "count= 678\n",
            "mean= 0.678\n",
            "percentage= 67.80000000000001\n"
          ]
        }
      ]
    },
    {
      "cell_type": "markdown",
      "source": [],
      "metadata": {
        "id": "BspcVjBmsmtI"
      }
    }
  ]
}