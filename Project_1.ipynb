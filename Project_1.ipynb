{
  "nbformat": 4,
  "nbformat_minor": 0,
  "metadata": {
    "colab": {
      "provenance": [],
      "authorship_tag": "ABX9TyMUcqtf7YR8XsAJBNgyNosd",
      "include_colab_link": true
    },
    "kernelspec": {
      "name": "python3",
      "display_name": "Python 3"
    },
    "language_info": {
      "name": "python"
    }
  },
  "cells": [
    {
      "cell_type": "markdown",
      "metadata": {
        "id": "view-in-github",
        "colab_type": "text"
      },
      "source": [
        "<a href=\"https://colab.research.google.com/github/omkardesai2827/Proof-of-Central-limit-theorem-of-Statistics/blob/main/Project_1.ipynb\" target=\"_parent\"><img src=\"https://colab.research.google.com/assets/colab-badge.svg\" alt=\"Open In Colab\"/></a>"
      ]
    },
    {
      "cell_type": "code",
      "source": [
        "# The actual percentage of occuring numbers -1 to 1 is 68.2%\n",
        "#first trial\n",
        "import numpy as np\n",
        "from numpy.random import randn\n",
        "n=1000 #sample size\n",
        "counter=0\n",
        "for i in randn(n): #to generate the norammly distributed random numbers\n",
        "    if -1<i<1:     #range of our sample size \n",
        "        counter+=1 \n",
        "print(\"count=\",counter) #count of numbers occuring between -1 to 1 put of 1000\n",
        "print(\"mean=\",(counter/n)) #average of numbers occuring between -1 to 1\n",
        "print(\"percentage=\",(counter/n)*100,\"%\")  #percentage of occuring between -1 to 1"
      ],
      "metadata": {
        "colab": {
          "base_uri": "https://localhost:8080/"
        },
        "id": "OMNVoWwGtIc8",
        "outputId": "f6a4629e-e5c1-48aa-be5c-247cefbd84b6"
      },
      "execution_count": null,
      "outputs": [
        {
          "output_type": "stream",
          "name": "stdout",
          "text": [
            "count= 697\n",
            "mean= 0.697\n",
            "percentage= 69.69999999999999 %\n"
          ]
        }
      ]
    },
    {
      "cell_type": "markdown",
      "source": [],
      "metadata": {
        "id": "BspcVjBmsmtI"
      }
    },
    {
      "cell_type": "code",
      "source": [
        "# In the first trial you can see the result is showing 69.6999% numbers occuring between -1 to 1\n",
        "# But the ideal percentage is 68.2%\n"
      ],
      "metadata": {
        "id": "1cEarK5bt_Dy"
      },
      "execution_count": null,
      "outputs": []
    },
    {
      "cell_type": "code",
      "source": [
        "#second trial \n",
        "#now we increase the sample size i.e if let's take n=10000000\n",
        "import numpy as np\n",
        "from numpy.random import randn\n",
        "n=10000000 \n",
        "counter=0\n",
        "for i in randn(n):\n",
        "  if -1<i<1:\n",
        "    counter+=1\n",
        "print(\"count=\",counter)\n",
        "print(\"mean=\",(counter/n))\n",
        "print(\"percentage=\",(counter/n)*100,\"%\")\n"
      ],
      "metadata": {
        "colab": {
          "base_uri": "https://localhost:8080/"
        },
        "id": "UyMnbyGfunSh",
        "outputId": "69b4b570-3b03-472f-d6a4-96349c1b2d4c"
      },
      "execution_count": null,
      "outputs": [
        {
          "output_type": "stream",
          "name": "stdout",
          "text": [
            "count= 6826426\n",
            "mean= 0.6826426\n",
            "percentage= 68.26426 %\n"
          ]
        }
      ]
    },
    {
      "cell_type": "code",
      "source": [
        "# In the second trail you can see we are getting the percentage 68.26 which is close to 68.2%\n",
        "# hence it is proved"
      ],
      "metadata": {
        "id": "lTO-119uvNFB"
      },
      "execution_count": null,
      "outputs": []
    },
    {
      "cell_type": "code",
      "source": [],
      "metadata": {
        "id": "L5pBqweSvd4O"
      },
      "execution_count": null,
      "outputs": []
    }
  ]
}